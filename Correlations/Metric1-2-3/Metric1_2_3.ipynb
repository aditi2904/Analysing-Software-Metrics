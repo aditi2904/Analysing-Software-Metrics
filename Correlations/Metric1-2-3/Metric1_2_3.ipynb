{
  "nbformat": 4,
  "nbformat_minor": 0,
  "metadata": {
    "colab": {
      "name": "Metric1-2-3.ipynb",
      "provenance": [],
      "collapsed_sections": []
    },
    "kernelspec": {
      "name": "python3",
      "display_name": "Python 3"
    }
  },
  "cells": [
    {
      "cell_type": "code",
      "metadata": {
        "id": "3ggug7Pw9jDc",
        "colab_type": "code",
        "colab": {}
      },
      "source": [
        "\n",
        "from scipy.stats import spearmanr\n",
        "from scipy.stats import pearsonr\n",
        "import matplotlib.pyplot as plt\n",
        "import pandas as pd"
      ],
      "execution_count": 0,
      "outputs": []
    },
    {
      "cell_type": "code",
      "metadata": {
        "id": "1n9U-Ex7_Dx7",
        "colab_type": "code",
        "colab": {}
      },
      "source": [
        "results = pd.read_csv(\"drive/My Drive/Metric_1_2_3.csv\")"
      ],
      "execution_count": 0,
      "outputs": []
    },
    {
      "cell_type": "code",
      "metadata": {
        "id": "zv1zhzQg_Vce",
        "colab_type": "code",
        "colab": {}
      },
      "source": [
        "#Statement coverage results \n",
        "statement_coverage_results = results[\"Statement Coverage\"]\n",
        "#Branch coverage test results \n",
        "branch_coverage_results = results[\"Branch Coverage\"]\n",
        "#Software defect density results \n",
        "mutation_coverage_results = results[\"Mutation Coverage\"]"
      ],
      "execution_count": 0,
      "outputs": []
    },
    {
      "cell_type": "code",
      "metadata": {
        "id": "kvsmqEvjAN1a",
        "colab_type": "code",
        "outputId": "46065510-9dec-4366-93aa-a8947a6cc67c",
        "colab": {
          "base_uri": "https://localhost:8080/",
          "height": 34
        }
      },
      "source": [
        "print(spearmanr(statement_coverage_results, mutation_coverage_results))"
      ],
      "execution_count": 5,
      "outputs": [
        {
          "output_type": "stream",
          "text": [
            "SpearmanrResult(correlation=1.0, pvalue=0.0)\n"
          ],
          "name": "stdout"
        }
      ]
    },
    {
      "cell_type": "code",
      "metadata": {
        "id": "-cPFA2OfBSXh",
        "colab_type": "code",
        "outputId": "14020b94-1eeb-4584-b7ec-7388a0a4c0c4",
        "colab": {
          "base_uri": "https://localhost:8080/",
          "height": 34
        }
      },
      "source": [
        "print(pearsonr(statement_coverage_results, mutation_coverage_results))"
      ],
      "execution_count": 6,
      "outputs": [
        {
          "output_type": "stream",
          "text": [
            "(0.7558696058537236, 0.24413039414627635)\n"
          ],
          "name": "stdout"
        }
      ]
    },
    {
      "cell_type": "code",
      "metadata": {
        "id": "b7O2EhUVBZ-Y",
        "colab_type": "code",
        "outputId": "f2450713-37a2-4e83-f757-baa0f64e808f",
        "colab": {
          "base_uri": "https://localhost:8080/",
          "height": 294
        }
      },
      "source": [
        "mutation_coverage_g,statement_coverage_results_g = zip(*sorted(zip(mutation_coverage_results,statement_coverage_results)))\n",
        "plt.scatter(mutation_coverage_g, statement_coverage_results_g)\n",
        "plt.ylabel(\"Statement coverage results\")\n",
        "plt.xlabel(\"Mutation Coverage results\")\n",
        "plt.title(\"Statement coverage vs Mutation Coverage\")\n",
        "plt.show()"
      ],
      "execution_count": 16,
      "outputs": [
        {
          "output_type": "display_data",
          "data": {
            "image/png": "[encoded data removed]",
            "text/plain": [
              "<Figure size 432x288 with 1 Axes>"
            ]
          },
          "metadata": {
            "tags": []
          }
        }
      ]
    },
    {
      "cell_type": "code",
      "metadata": {
        "id": "VndOqhjqB9i9",
        "colab_type": "code",
        "outputId": "2bfee0d5-93e3-480a-8bc6-de071a58ee4e",
        "colab": {
          "base_uri": "https://localhost:8080/",
          "height": 34
        }
      },
      "source": [
        "print(spearmanr(branch_coverage_results, mutation_coverage_results))"
      ],
      "execution_count": 18,
      "outputs": [
        {
          "output_type": "stream",
          "text": [
            "SpearmanrResult(correlation=1.0, pvalue=0.0)\n"
          ],
          "name": "stdout"
        }
      ]
    },
    {
      "cell_type": "code",
      "metadata": {
        "id": "JpVgmaZ3CKCh",
        "colab_type": "code",
        "outputId": "6d8cba7e-e2d6-4590-b46b-706372c663af",
        "colab": {
          "base_uri": "https://localhost:8080/",
          "height": 34
        }
      },
      "source": [
        "print(pearsonr(branch_coverage_results, mutation_coverage_results))"
      ],
      "execution_count": 19,
      "outputs": [
        {
          "output_type": "stream",
          "text": [
            "(0.7398671340589182, 0.26013286594108176)\n"
          ],
          "name": "stdout"
        }
      ]
    },
    {
      "cell_type": "code",
      "metadata": {
        "id": "L6_72SKICTo7",
        "colab_type": "code",
        "outputId": "e635ad8a-f2f8-4a16-ae08-c135c48e1d13",
        "colab": {
          "base_uri": "https://localhost:8080/",
          "height": 294
        }
      },
      "source": [
        "mutation_coverage_g,branch_coverage_results_g = zip(*sorted(zip(mutation_coverage_results,branch_coverage_results)))\n",
        "plt.scatter(mutation_coverage_g, branch_coverage_results_g)\n",
        "plt.ylabel(\"Branch coverage results\")\n",
        "plt.xlabel(\"Mutation Coverage results\")\n",
        "plt.title(\"Branch coverage vs Mutation Coverage\")\n",
        "plt.show()"
      ],
      "execution_count": 17,
      "outputs": [
        {
          "output_type": "display_data",
          "data": {
            "image/png": "[encoded data removed]",
            "text/plain": [
              "<Figure size 432x288 with 1 Axes>"
            ]
          },
          "metadata": {
            "tags": []
          }
        }
      ]
    }
  ]
}