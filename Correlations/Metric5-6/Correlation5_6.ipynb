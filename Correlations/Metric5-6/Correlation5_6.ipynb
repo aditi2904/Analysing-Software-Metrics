{
  "nbformat": 4,
  "nbformat_minor": 0,
  "metadata": {
    "colab": {
      "name": "Correlation5-6.ipynb",
      "provenance": [],
      "collapsed_sections": []
    },
    "kernelspec": {
      "name": "python3",
      "display_name": "Python 3"
    }
  },
  "cells": [
    {
      "cell_type": "code",
      "metadata": {
        "id": "MV3Spu7CKkLw",
        "colab_type": "code",
        "colab": {}
      },
      "source": [
        "\n",
        "from scipy.stats import spearmanr\n",
        "from scipy.stats import pearsonr\n",
        "import matplotlib.pyplot as plt\n",
        "import pandas as pd"
      ],
      "execution_count": 0,
      "outputs": []
    },
    {
      "cell_type": "code",
      "metadata": {
        "id": "YUSTAgAlKp76",
        "colab_type": "code",
        "colab": {}
      },
      "source": [
        "#APACHE COMMONS NET\n",
        "results = pd.read_csv(\"COMMONS_NET_5-6.csv\")\n",
        "#Software defect density results \n",
        "software_defect_density_results = results[\"Metric 6\"]\n",
        "#Adaptive Maintenance Effort Results\n",
        "adaptive_maintenance_effort_results = results[\"Metric 5\"]"
      ],
      "execution_count": 0,
      "outputs": []
    },
    {
      "cell_type": "code",
      "metadata": {
        "id": "UrJCxTx0Kw7_",
        "colab_type": "code",
        "colab": {}
      },
      "source": [
        "print(spearmanr(software_defect_density_results, \n",
        "                adaptive_maintenance_effort_results))\n",
        "print(pearsonr(software_defect_density_results, \n",
        "                adaptive_maintenance_effort_results))"
      ],
      "execution_count": 0,
      "outputs": []
    },
    {
      "cell_type": "code",
      "metadata": {
        "id": "76dx4QmvK0id",
        "colab_type": "code",
        "colab": {}
      },
      "source": [
        "software_defect_density_results,adaptive_maintenance_effort_results = zip(*sorted(zip( software_defect_density_results, \n",
        "                                                                                   adaptive_maintenance_effort_results )))\n",
        "plt.plot(software_defect_density_results, adaptive_maintenance_effort_results)\n",
        "plt.xlabel(\"Post Release defect density\")\n",
        "plt.ylabel(\"Adaptive maintenance effort\")\n",
        "plt.show()"
      ],
      "execution_count": 0,
      "outputs": []
    },
    {
      "cell_type": "code",
      "metadata": {
        "id": "F8g-vhTIK4pH",
        "colab_type": "code",
        "colab": {}
      },
      "source": [
        "#APACHE COMMONS COLLECTIONS\n",
        "results = pd.read_csv(\"COMMONS_COLLECTIONS_5-6.csv\")\n",
        "#Software defect density results \n",
        "software_defect_density_results = results[\"Metric 6\"]\n",
        "#Adaptive Maintenance Effort Results\n",
        "adaptive_maintenance_effort_results = results[\"Metric 5\"]"
      ],
      "execution_count": 0,
      "outputs": []
    },
    {
      "cell_type": "code",
      "metadata": {
        "id": "rQDrkQXDK82a",
        "colab_type": "code",
        "colab": {}
      },
      "source": [
        "print(spearmanr(software_defect_density_results, \n",
        "                adaptive_maintenance_effort_results))\n",
        "print(pearsonr(software_defect_density_results, \n",
        "                adaptive_maintenance_effort_results))\n"
      ],
      "execution_count": 0,
      "outputs": []
    },
    {
      "cell_type": "code",
      "metadata": {
        "id": "NQoBI3Y1LBeB",
        "colab_type": "code",
        "colab": {}
      },
      "source": [
        "software_defect_density_results,adaptive_maintenance_effort_results = zip(*sorted(zip(software_defect_density_results,\n",
        "                  adaptive_maintenance_effort_results)))\n",
        "plt.plot(software_defect_density_results, adaptive_maintenance_effort_results)\n",
        "plt.xlabel(\"Post Release Defect Density\")\n",
        "plt.ylabel(\"Adaptive maintenance effort\")\n",
        "plt.show()"
      ],
      "execution_count": 0,
      "outputs": []
    },
    {
      "cell_type": "code",
      "metadata": {
        "id": "3TV-l4-WLKKY",
        "colab_type": "code",
        "colab": {}
      },
      "source": [
        "#APACHE COMMONS MATH\n",
        "results = pd.read_csv(\"COMMONS_MATH_5-6.csv\")\n",
        "#Software defect density results \n",
        "software_defect_density_results = results[\"Metric 6\"]\n",
        "#Adaptive Maintenance Effort Results\n",
        "adaptive_maintenance_effort_results = results[\"Metric 5\"]"
      ],
      "execution_count": 0,
      "outputs": []
    },
    {
      "cell_type": "code",
      "metadata": {
        "id": "u_jMz_vDLOVV",
        "colab_type": "code",
        "colab": {}
      },
      "source": [
        "print(spearmanr(software_defect_density_results, \n",
        "                adaptive_maintenance_effort_results))\n",
        "print(pearsonr(software_defect_density_results, \n",
        "                adaptive_maintenance_effort_results))"
      ],
      "execution_count": 0,
      "outputs": []
    },
    {
      "cell_type": "code",
      "metadata": {
        "id": "PPCBVYiLLR_P",
        "colab_type": "code",
        "colab": {}
      },
      "source": [
        "software_defect_density_results,adaptive_maintenance_effort_results = zip(*sorted(zip(software_defect_density_results,\n",
        "                  adaptive_maintenance_effort_results)))\n",
        "plt.plot(software_defect_density_results, adaptive_maintenance_effort_results)\n",
        "plt.xlabel(\"Post Release defect density\")\n",
        "plt.ylabel(\"Adaptive maintenance effort\")\n",
        "plt.show()"
      ],
      "execution_count": 0,
      "outputs": []
    },
    {
      "cell_type": "code",
      "metadata": {
        "id": "LzZYFpxhME4r",
        "colab_type": "code",
        "colab": {}
      },
      "source": [
        "#JfreeCHart\n",
        "results = pd.read_csv(\"JfreeCHart_5-6.csv\")\n",
        "#Software defect density results \n",
        "software_defect_density_results = results[\"Metric 6\"]\n",
        "#Adaptive Maintenance Effort Results\n",
        "adaptive_maintenance_effort_results = results[\"Metric 5\"]"
      ],
      "execution_count": 0,
      "outputs": []
    },
    {
      "cell_type": "code",
      "metadata": {
        "id": "VGLjJ1sgMP7P",
        "colab_type": "code",
        "colab": {}
      },
      "source": [
        "print(spearmanr(software_defect_density_results, \n",
        "                adaptive_maintenance_effort_results))\n",
        "print(pearsonr(software_defect_density_results, \n",
        "                adaptive_maintenance_effort_results))"
      ],
      "execution_count": 0,
      "outputs": []
    },
    {
      "cell_type": "code",
      "metadata": {
        "id": "kP_SdBVAMWjq",
        "colab_type": "code",
        "colab": {}
      },
      "source": [
        "software_defect_density_results,adaptive_maintenance_effort_results = zip(*sorted(zip(software_defect_density_results,\n",
        "                  adaptive_maintenance_effort_results)))\n",
        "plt.plot(software_defect_density_results, adaptive_maintenance_effort_results)\n",
        "plt.xlabel(\"Post Release defect density\")\n",
        "plt.ylabel(\"Adaptive maintenance effort\")\n",
        "plt.show()"
      ],
      "execution_count": 0,
      "outputs": []
    }
  ]
}