{
  "nbformat": 4,
  "nbformat_minor": 0,
  "metadata": {
    "colab": {
      "name": "Correlation5-6.ipynb",
      "provenance": [],
      "collapsed_sections": []
    },
    "kernelspec": {
      "name": "python3",
      "display_name": "Python 3"
    }
  },
  "cells": [
    {
      "cell_type": "code",
      "metadata": {
        "id": "MV3Spu7CKkLw",
        "colab_type": "code",
        "colab": {}
      },
      "source": [
        "\n",
        "from scipy.stats import spearmanr\n",
        "from scipy.stats import pearsonr\n",
        "import matplotlib.pyplot as plt\n",
        "import pandas as pd"
      ],
      "execution_count": 0,
      "outputs": []
    },
    {
      "cell_type": "code",
      "metadata": {
        "id": "YUSTAgAlKp76",
        "colab_type": "code",
        "colab": {}
      },
      "source": [
        "#APACHE COMMONS NET\n",
        "results = pd.read_csv(\"COMMONS_NET_5-6.csv\")\n",
        "results = results.dropna(how='all')\n",
        "#Software defect density results\n",
        "software_defect_density_results = results[\"Metric 6\"]\n",
        "#Adaptive Maintenance Effort Results\n",
        "adaptive_maintenance_effort_results = results[\"Metric 5\"]"
      ],
      "execution_count": 0,
      "outputs": []
    },
    {
      "cell_type": "code",
      "metadata": {
        "id": "UrJCxTx0Kw7_",
        "colab_type": "code",
        "colab": {
          "base_uri": "https://localhost:8080/",
          "height": 51
        },
        "outputId": "49404063-d9db-414a-fb3c-2c1d60607cf3"
      },
      "source": [
        "print(spearmanr(software_defect_density_results, \n",
        "                adaptive_maintenance_effort_results))\n",
        "print(pearsonr(software_defect_density_results, \n",
        "                adaptive_maintenance_effort_results))"
      ],
      "execution_count": 15,
      "outputs": [
        {
          "output_type": "stream",
          "text": [
            "SpearmanrResult(correlation=-0.8207826816681234, pvalue=0.08858700531354378)\n",
            "(-0.5950575011462578, 0.28980298164078366)\n"
          ],
          "name": "stdout"
        }
      ]
    },
    {
      "cell_type": "code",
      "metadata": {
        "id": "76dx4QmvK0id",
        "colab_type": "code",
        "colab": {
          "base_uri": "https://localhost:8080/",
          "height": 279
        },
        "outputId": "a34fe3d0-2c30-42b9-fc52-5872a2813b11"
      },
      "source": [
        "software_defect_density_results,adaptive_maintenance_effort_results = zip(*sorted(zip( software_defect_density_results, \n",
        "                                                                                   adaptive_maintenance_effort_results )))\n",
        "plt.scatter(software_defect_density_results, adaptive_maintenance_effort_results)\n",
        "plt.xlabel(\"Post Release defect density\")\n",
        "plt.ylabel(\"Adaptive maintenance effort\")\n",
        "plt.show()"
      ],
      "execution_count": 18,
      "outputs": [
        {
          "output_type": "display_data",
          "data": {
            "image/png": "[encoded data removed]",
            "text/plain": [
              "<Figure size 432x288 with 1 Axes>"
            ]
          },
          "metadata": {
            "tags": []
          }
        }
      ]
    },
    {
      "cell_type": "code",
      "metadata": {
        "id": "F8g-vhTIK4pH",
        "colab_type": "code",
        "colab": {}
      },
      "source": [
        "#APACHE COMMONS COLLECTIONS\n",
        "results = pd.read_csv(\"COMMONS_COLLECTIONS_5-6.csv\")\n",
        "results = results.dropna(how='all')\n",
        "#Software defect density results \n",
        "software_defect_density_results = results[\"Metric 6\"]\n",
        "#Adaptive Maintenance Effort Results\n",
        "adaptive_maintenance_effort_results = results[\"Metric 5\"]"
      ],
      "execution_count": 0,
      "outputs": []
    },
    {
      "cell_type": "code",
      "metadata": {
        "id": "rQDrkQXDK82a",
        "colab_type": "code",
        "colab": {
          "base_uri": "https://localhost:8080/",
          "height": 51
        },
        "outputId": "0c541577-5bbb-4996-a609-454f1c54341e"
      },
      "source": [
        "print(spearmanr(software_defect_density_results, \n",
        "                adaptive_maintenance_effort_results))\n",
        "print(pearsonr(software_defect_density_results, \n",
        "                adaptive_maintenance_effort_results))\n"
      ],
      "execution_count": 20,
      "outputs": [
        {
          "output_type": "stream",
          "text": [
            "SpearmanrResult(correlation=0.7, pvalue=0.1881204043741873)\n",
            "(0.47714359158852027, 0.4163931732885876)\n"
          ],
          "name": "stdout"
        }
      ]
    },
    {
      "cell_type": "code",
      "metadata": {
        "id": "NQoBI3Y1LBeB",
        "colab_type": "code",
        "colab": {
          "base_uri": "https://localhost:8080/",
          "height": 279
        },
        "outputId": "65eec6d3-7ec8-4e9f-a74c-8a22c405bc7a"
      },
      "source": [
        "software_defect_density_results,adaptive_maintenance_effort_results = zip(*sorted(zip(software_defect_density_results,\n",
        "                  adaptive_maintenance_effort_results)))\n",
        "plt.scatter(software_defect_density_results, adaptive_maintenance_effort_results)\n",
        "plt.xlabel(\"Post Release Defect Density\")\n",
        "plt.ylabel(\"Adaptive maintenance effort\")\n",
        "plt.show()"
      ],
      "execution_count": 21,
      "outputs": [
        {
          "output_type": "display_data",
          "data": {
            "image/png": "[encoded data removed]",
            "text/plain": [
              "<Figure size 432x288 with 1 Axes>"
            ]
          },
          "metadata": {
            "tags": []
          }
        }
      ]
    },
    {
      "cell_type": "code",
      "metadata": {
        "id": "3TV-l4-WLKKY",
        "colab_type": "code",
        "colab": {}
      },
      "source": [
        "#APACHE COMMONS MATH\n",
        "results = pd.read_csv(\"COMMONS_MATH_5-6.csv\")\n",
        "results = results.dropna(how='all')\n",
        "#Software defect density results \n",
        "software_defect_density_results = results[\"Metric 6\"]\n",
        "#Adaptive Maintenance Effort Results\n",
        "adaptive_maintenance_effort_results = results[\"Metric 5\"]"
      ],
      "execution_count": 0,
      "outputs": []
    },
    {
      "cell_type": "code",
      "metadata": {
        "id": "u_jMz_vDLOVV",
        "colab_type": "code",
        "colab": {
          "base_uri": "https://localhost:8080/",
          "height": 51
        },
        "outputId": "47792af2-2531-4448-d82e-bbf2a572bdf6"
      },
      "source": [
        "print(spearmanr(software_defect_density_results, \n",
        "                adaptive_maintenance_effort_results))\n",
        "print(pearsonr(software_defect_density_results, \n",
        "                adaptive_maintenance_effort_results))"
      ],
      "execution_count": 23,
      "outputs": [
        {
          "output_type": "stream",
          "text": [
            "SpearmanrResult(correlation=-0.49999999999999994, pvalue=0.39100221895577053)\n",
            "(-0.44831907631966184, 0.4489263014117002)\n"
          ],
          "name": "stdout"
        }
      ]
    },
    {
      "cell_type": "code",
      "metadata": {
        "id": "PPCBVYiLLR_P",
        "colab_type": "code",
        "colab": {
          "base_uri": "https://localhost:8080/",
          "height": 279
        },
        "outputId": "d129caee-28ea-45d8-8759-7e6c5affb4cc"
      },
      "source": [
        "software_defect_density_results,adaptive_maintenance_effort_results = zip(*sorted(zip(software_defect_density_results,\n",
        "                  adaptive_maintenance_effort_results)))\n",
        "plt.scatter(software_defect_density_results, adaptive_maintenance_effort_results)\n",
        "plt.xlabel(\"Post Release defect density\")\n",
        "plt.ylabel(\"Adaptive maintenance effort\")\n",
        "plt.show()"
      ],
      "execution_count": 24,
      "outputs": [
        {
          "output_type": "display_data",
          "data": {
            "image/png": "[encoded data removed]",
            "text/plain": [
              "<Figure size 432x288 with 1 Axes>"
            ]
          },
          "metadata": {
            "tags": []
          }
        }
      ]
    },
    {
      "cell_type": "code",
      "metadata": {
        "id": "LzZYFpxhME4r",
        "colab_type": "code",
        "colab": {}
      },
      "source": [
        "#JfreeCHart\n",
        "results = pd.read_csv(\"JfreeCHart_5-6.csv\")\n",
        "results = results.dropna(how='all')\n",
        "#Software defect density results \n",
        "software_defect_density_results = results[\"Metric 6\"]\n",
        "#Adaptive Maintenance Effort Results\n",
        "adaptive_maintenance_effort_results = results[\"Metric 5\"]"
      ],
      "execution_count": 0,
      "outputs": []
    },
    {
      "cell_type": "code",
      "metadata": {
        "id": "VGLjJ1sgMP7P",
        "colab_type": "code",
        "colab": {
          "base_uri": "https://localhost:8080/",
          "height": 51
        },
        "outputId": "ac2c4029-6f76-4e9a-c151-306baf9aba04"
      },
      "source": [
        "print(spearmanr(software_defect_density_results, \n",
        "                adaptive_maintenance_effort_results))\n",
        "print(pearsonr(software_defect_density_results, \n",
        "                adaptive_maintenance_effort_results))"
      ],
      "execution_count": 26,
      "outputs": [
        {
          "output_type": "stream",
          "text": [
            "SpearmanrResult(correlation=-0.5, pvalue=0.6666666666666667)\n",
            "(-0.808554360155602, 0.40050079984464676)\n"
          ],
          "name": "stdout"
        }
      ]
    },
    {
      "cell_type": "code",
      "metadata": {
        "id": "kP_SdBVAMWjq",
        "colab_type": "code",
        "colab": {
          "base_uri": "https://localhost:8080/",
          "height": 290
        },
        "outputId": "b15e0088-92ca-494c-8ea5-a97621c3a30b"
      },
      "source": [
        "software_defect_density_results,adaptive_maintenance_effort_results = zip(*sorted(zip(software_defect_density_results,\n",
        "                  adaptive_maintenance_effort_results)))\n",
        "plt.scatter(software_defect_density_results, adaptive_maintenance_effort_results)\n",
        "plt.xlabel(\"Post Release defect density\")\n",
        "plt.ylabel(\"Adaptive maintenance effort\")\n",
        "plt.show()"
      ],
      "execution_count": 27,
      "outputs": [
        {
          "output_type": "display_data",
          "data": {
            "image/png": "[encoded data removed]",
            "text/plain": [
              "<Figure size 432x288 with 1 Axes>"
            ]
          },
          "metadata": {
            "tags": []
          }
        }
      ]
    }
  ]
}