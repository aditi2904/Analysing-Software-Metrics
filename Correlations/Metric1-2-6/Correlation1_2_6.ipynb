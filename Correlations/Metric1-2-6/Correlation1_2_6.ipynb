{
  "nbformat": 4,
  "nbformat_minor": 0,
  "metadata": {
    "colab": {
      "name": "Correlation1-2-6.ipynb",
      "provenance": [],
      "collapsed_sections": []
    },
    "kernelspec": {
      "name": "python3",
      "display_name": "Python 3"
    }
  },
  "cells": [
    {
      "cell_type": "code",
      "metadata": {
        "id": "DYsYGFri0cb3",
        "colab_type": "code",
        "colab": {}
      },
      "source": [
        "from scipy.stats import spearmanr\n",
        "from scipy.stats import pearsonr\n",
        "import matplotlib.pyplot as plt\n",
        "import pandas as pd\n",
        "\n"
      ],
      "execution_count": 0,
      "outputs": []
    },
    {
      "cell_type": "code",
      "metadata": {
        "id": "xtbv0Not0iEA",
        "colab_type": "code",
        "colab": {}
      },
      "source": [
        "\n",
        "results = pd.read_csv(\"Metric_1_2_6.csv\")\n",
        "#Statement coverage results \n",
        "statement_coverage_results = results[\"Statement Coverage\"]\n",
        "#Branch coverage test results \n",
        "branch_coverage_results = results[\"Branch Coverage\"]"
      ],
      "execution_count": 0,
      "outputs": []
    },
    {
      "cell_type": "code",
      "metadata": {
        "id": "En_i_CXX0xPk",
        "colab_type": "code",
        "colab": {}
      },
      "source": [
        "#Software defect density results \n",
        "software_defect_density = results[\"Defect Density\"]"
      ],
      "execution_count": 0,
      "outputs": []
    },
    {
      "cell_type": "code",
      "metadata": {
        "id": "IDj__-Xx01h-",
        "colab_type": "code",
        "colab": {}
      },
      "source": [
        "print(spearmanr(statement_coverage_results, software_defect_density))\n",
        "\n",
        "print(pearsonr(statement_coverage_results, software_defect_density))"
      ],
      "execution_count": 0,
      "outputs": []
    },
    {
      "cell_type": "code",
      "metadata": {
        "id": "bXCBTn5n06gn",
        "colab_type": "code",
        "colab": {}
      },
      "source": [
        "software_defect_density_g,statement_coverage_results_g = zip(*sorted(zip(software_defect_density,statement_coverage_results)))\n",
        "plt.plot(software_defect_density_g, statement_coverage_results_g)\n",
        "plt.ylabel(\"Statement coverage results\")\n",
        "plt.xlabel(\"Software defect density results\")\n",
        "plt.title(\"Statement coverage vs Software defect density\")\n",
        "plt.show()"
      ],
      "execution_count": 0,
      "outputs": []
    },
    {
      "cell_type": "code",
      "metadata": {
        "id": "rAzIqAZj07Rc",
        "colab_type": "code",
        "colab": {}
      },
      "source": [
        "print(spearmanr(branch_coverage_results, software_defect_density))\n",
        "print(pearsonr(branch_coverage_results, software_defect_density))"
      ],
      "execution_count": 0,
      "outputs": []
    },
    {
      "cell_type": "code",
      "metadata": {
        "id": "hLLpyhfn1BHQ",
        "colab_type": "code",
        "colab": {}
      },
      "source": [
        "software_defect_density_g,branch_coverage_results_g = zip(*sorted(zip(software_defect_density,branch_coverage_results)))\n",
        "plt.plot(software_defect_density_g, branch_coverage_results_g)\n",
        "plt.ylabel(\"Branch coverage results\")\n",
        "plt.xlabel(\"Software defect density results\")\n",
        "plt.title(\"Branch coverage vs software density\")\n",
        "plt.show()"
      ],
      "execution_count": 0,
      "outputs": []
    }
  ]
}