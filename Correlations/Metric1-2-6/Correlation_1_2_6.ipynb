{
  "nbformat": 4,
  "nbformat_minor": 0,
  "metadata": {
    "colab": {
      "name": "Correlation_1_2_6.ipynb",
      "provenance": []
    },
    "kernelspec": {
      "name": "python3",
      "display_name": "Python 3"
    }
  },
  "cells": [
    {
      "cell_type": "code",
      "metadata": {
        "id": "VvklV3xT6PZY",
        "colab_type": "code",
        "colab": {}
      },
      "source": [
        "from scipy.stats import spearmanr\n",
        "from scipy.stats import pearsonr\n",
        "import matplotlib.pyplot as plt\n",
        "import pandas as pd"
      ],
      "execution_count": 0,
      "outputs": []
    },
    {
      "cell_type": "code",
      "metadata": {
        "id": "dIuhBT_x8VhR",
        "colab_type": "code",
        "colab": {}
      },
      "source": [
        "results = pd.read_csv(\"Metric_1_2_6.csv\")\n",
        "#Statement coverage results \n",
        "statement_coverage_results = results[\"Statement Coverage\"]\n",
        "#Branch coverage test results \n",
        "branch_coverage_results = results[\"Branch Coverage\"]"
      ],
      "execution_count": 0,
      "outputs": []
    },
    {
      "cell_type": "code",
      "metadata": {
        "id": "wTy86gMs8ZXD",
        "colab_type": "code",
        "colab": {}
      },
      "source": [
        "#Software defect density results \n",
        "software_defect_density = results[\"Defect Density\"]"
      ],
      "execution_count": 0,
      "outputs": []
    },
    {
      "cell_type": "code",
      "metadata": {
        "id": "EXlYYXGh8zVV",
        "colab_type": "code",
        "colab": {
          "base_uri": "https://localhost:8080/",
          "height": 52
        },
        "outputId": "96670f87-92d6-445a-96a7-6566b794f1d3"
      },
      "source": [
        "print(spearmanr(statement_coverage_results, software_defect_density))\n",
        "\n",
        "print(pearsonr(statement_coverage_results, software_defect_density))"
      ],
      "execution_count": 6,
      "outputs": [
        {
          "output_type": "stream",
          "text": [
            "SpearmanrResult(correlation=-0.7999999999999999, pvalue=0.20000000000000007)\n",
            "(-0.8644432566736445, 0.13555674332635548)\n"
          ],
          "name": "stdout"
        }
      ]
    },
    {
      "cell_type": "code",
      "metadata": {
        "id": "HFPNRQVp9wSV",
        "colab_type": "code",
        "colab": {
          "base_uri": "https://localhost:8080/",
          "height": 295
        },
        "outputId": "bd9dc7d3-8573-41a5-83b9-a721bdc402da"
      },
      "source": [
        "software_defect_density_g,statement_coverage_results_g = zip(*sorted(zip(software_defect_density,statement_coverage_results)))\n",
        "plt.scatter(software_defect_density_g, statement_coverage_results_g)\n",
        "plt.ylabel(\"Statement coverage results\")\n",
        "plt.xlabel(\"Software defect density results\")\n",
        "plt.title(\"Statement coverage vs Software defect density\")\n",
        "plt.show()"
      ],
      "execution_count": 8,
      "outputs": [
        {
          "output_type": "display_data",
          "data": {
            "image/png": "[encoded data removed]",
            "text/plain": [
              "<Figure size 432x288 with 1 Axes>"
            ]
          },
          "metadata": {
            "tags": []
          }
        }
      ]
    },
    {
      "cell_type": "code",
      "metadata": {
        "id": "w_-EuZAK90CA",
        "colab_type": "code",
        "colab": {
          "base_uri": "https://localhost:8080/",
          "height": 52
        },
        "outputId": "5e545e62-873e-42ef-90c4-b4ebc21ac37e"
      },
      "source": [
        "print(spearmanr(branch_coverage_results, software_defect_density))\n",
        "print(pearsonr(branch_coverage_results, software_defect_density))"
      ],
      "execution_count": 9,
      "outputs": [
        {
          "output_type": "stream",
          "text": [
            "SpearmanrResult(correlation=-0.7999999999999999, pvalue=0.20000000000000007)\n",
            "(-0.8824794603509263, 0.11752053964907372)\n"
          ],
          "name": "stdout"
        }
      ]
    },
    {
      "cell_type": "code",
      "metadata": {
        "id": "7sQrdoXq956v",
        "colab_type": "code",
        "colab": {
          "base_uri": "https://localhost:8080/",
          "height": 295
        },
        "outputId": "ed9182eb-b993-411e-83d9-3a71d2940d53"
      },
      "source": [
        "software_defect_density_g,branch_coverage_results_g = zip(*sorted(zip(software_defect_density,branch_coverage_results)))\n",
        "plt.scatter(software_defect_density_g, branch_coverage_results_g)\n",
        "plt.ylabel(\"Branch coverage results\")\n",
        "plt.xlabel(\"Software defect density results\")\n",
        "plt.title(\"Branch coverage vs software density\")\n",
        "plt.show()"
      ],
      "execution_count": 10,
      "outputs": [
        {
          "output_type": "display_data",
          "data": {
            "image/png": "[encoded data removed]",
            "text/plain": [
              "<Figure size 432x288 with 1 Axes>"
            ]
          },
          "metadata": {
            "tags": []
          }
        }
      ]
    },
    {
      "cell_type": "code",
      "metadata": {
        "id": "gQoYsc9j9_wu",
        "colab_type": "code",
        "colab": {}
      },
      "source": [
        ""
      ],
      "execution_count": 0,
      "outputs": []
    }
  ]
}